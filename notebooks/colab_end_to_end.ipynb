{
 "cells": [
  {
   "cell_type": "markdown",
   "metadata": {},
   "source": [
    "# Algo DRL SAC/IQL — Colab End-to-End\n",
    "\n",
    "This notebook sets up a GPU environment on Colab, installs dependencies, clones your repo, and runs the full pipeline: data download → offline IQL pretrain → SAC fine-tune → evaluation."
   ]
  },
  {
   "cell_type": "code",
   "execution_count": null,
   "metadata": {},
   "outputs": [],
   "source": [
    "# Check GPU availability\n",
    "!nvidia-smi || true"
   ]
  },
  {
   "cell_type": "code",
   "execution_count": null,
   "metadata": {},
   "outputs": [],
   "source": [
    "# Install core dependencies\n",
    "# Colab typically supports CUDA 12.1 wheels; if it fails, fallback to default CPU wheels.\n",
    "%%bash\n",
    "pip -q install torch torchvision torchaudio --index-url https://download.pytorch.org/whl/cu121 \\n+      || pip -q install torch torchvision torchaudio\n",
    "pip -q install d3rlpy==2.8.1 gymnasium pandas numpy plotly vectorbt requests pyyaml"
   ]
  },
  {
   "cell_type": "markdown",
   "metadata": {},
   "source": [
    "## Clone your repository (always pulls latest)\n",
    "Edit `REPO_URL` and (optionally) `BRANCH`. The notebook will clone if missing, or pull to update."
   ]
  },
  {
   "cell_type": "code",
   "execution_count": null,
   "metadata": {},
   "outputs": [],
   "source": [
    "import os, subprocess, sys, pathlib\n",
    "REPO_URL = os.environ.get('REPO_URL', 'https://github.com/your-account/algo-drl-sac-iql.git')\n",
    "BRANCH   = os.environ.get('REPO_BRANCH', 'main')\n",
    "TARGET   = pathlib.Path('/content/algo-drl-sac-iql')\n",
    "\n",
    "if not TARGET.exists():\n",
    "    !git clone -b $BRANCH $REPO_URL $TARGET\n",
    "else:\n",
    "    %cd $TARGET\n",
    "    !git fetch origin $BRANCH && git checkout $BRANCH && git pull\n",
    "    %cd /content\n",
    "\n",
    "%cd $TARGET"
   ]
  },
  {
   "cell_type": "markdown",
   "metadata": {},
   "source": [
    "## Quick knobs (shorter runs in Colab)"
   ]
  },
  {
   "cell_type": "code",
   "execution_count": null,
   "metadata": {},
   "outputs": [],
   "source": [
    "import os\n",
    "os.environ['QA_STEPS'] = os.environ.get('QA_STEPS', '5000')\n",
    "os.environ['QA_DEVICE'] = os.environ.get('QA_DEVICE', 'cuda')\n",
    "os.environ['CONFIG'] = os.environ.get('CONFIG', 'config/config.yaml')\n",
    "print('QA_STEPS =', os.environ['QA_STEPS'])\n",
    "print('QA_DEVICE=', os.environ['QA_DEVICE'])\n",
    "print('CONFIG  =', os.environ['CONFIG'])"
   ]
  },
  {
   "cell_type": "markdown",
   "metadata": {},
   "source": [
    "## 1) Download OHLCV (with volume fields)"
   ]
  },
  {
   "cell_type": "code",
   "execution_count": null,
   "metadata": {},
   "outputs": [],
   "source": [
    "!python scripts/download_ohlcv_binance.py \\n+    --symbol BTCUSDT --interval 3600 \\n+    --start '2024-06-10' --end '2025-10-16' \\n+    --output-dir data"
   ]
  },
  {
   "cell_type": "markdown",
   "metadata": {},
   "source": [
    "## 2) Offline pretrain (IQL)"
   ]
  },
  {
   "cell_type": "code",
   "execution_count": null,
   "metadata": {},
   "outputs": [],
   "source": [
    "!python -m src.run_offline_pretrain --config config/config.yaml --device cuda"
   ]
  },
  {
   "cell_type": "markdown",
   "metadata": {},
   "source": [
    "## 3) Online fine-tune (SAC)"
   ]
  },
  {
   "cell_type": "code",
   "execution_count": null,
   "metadata": {},
   "outputs": [],
   "source": [
    "!python -m src.run_sac_finetune --config config/config.yaml --device cuda"
   ]
  },
  {
   "cell_type": "markdown",
   "metadata": {},
   "source": [
    "## 4) Evaluation (test window with warm-up)"
   ]
  },
  {
   "cell_type": "code",
   "execution_count": null,
   "metadata": {},
   "outputs": [],
   "source": [
    "!python -m src.run_walkforward --config config/config.yaml --device cuda"
   ]
  },
  {
   "cell_type": "markdown",
   "metadata": {},
   "source": [
    "## View charts in notebook"
   ]
  },
  {
   "cell_type": "code",
   "execution_count": null,
   "metadata": {},
   "outputs": [],
   "source": [
    "from IPython.display import IFrame, display\n",
    "display(IFrame('evaluation/charts/equity_BTCUSDT.html', width=1000, height=600))\n",
    "display(IFrame('evaluation/charts/candlestick_BTCUSDT_SepOct2025.html', width=1000, height=600))"
   ]
  }
 ],
 "metadata": {
  "kernelspec": {
   "display_name": "Python 3",
   "language": "python",
   "name": "python3"
  },
  "language_info": {
   "name": "python",
   "version": "3.10"
  }
 },
 "nbformat": 4,
 "nbformat_minor": 5
}

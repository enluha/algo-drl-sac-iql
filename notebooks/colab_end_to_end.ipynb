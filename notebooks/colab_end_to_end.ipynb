{
  "cells": [
    {
      "cell_type": "markdown",
      "metadata": {},
      "source": [
        "# Algo DRL SAC/IQL — Colab End-to-End\n",
        "\n",
        "This notebook sets up a GPU environment on Colab, installs dependencies, clones your repo, and runs the full pipeline: data download -> offline IQL pretrain -> SAC fine-tune -> evaluation."
      ]
    },
    {
      "cell_type": "code",
      "execution_count": null,
      "metadata": {},
      "outputs": [],
      "source": [
        "# GPU / CUDA summary (works with or without GPU)\n",
        "import shutil, importlib\n",
        "print('nvidia-smi path:', shutil.which('nvidia-smi'))\n",
        "torch = importlib.import_module('torch')\n",
        "print('torch.cuda.is_available:', torch.cuda.is_available())\n",
        "print('torch.version.cuda:', getattr(torch.version, 'cuda', None))\n"
      ]
    },
    {
      "cell_type": "code",
      "execution_count": null,
      "metadata": {},
      "outputs": [],
      "source": [
        "%%bash\n",
        "set -e\n",
        "# Remove legacy gym to avoid conflicts\n",
        "pip -q uninstall -y gym || true\n",
        "# Try cu121 first; fallback to default wheels\n",
        "pip -q install torch torchvision torchaudio --index-url https://download.pytorch.org/whl/cu121 || pip -q install torch torchvision torchaudio\n",
        "pip -q install d3rlpy==2.8.1 gymnasium pandas numpy plotly vectorbt requests pyyaml\n"
      ]
    },
    {
      "cell_type": "markdown",
      "metadata": {},
      "source": [
        "## Clone your repository (always pulls latest)\n",
        "Set REPO_URL to your GitHub repo. If private, paste a token when prompted."
      ]
    },
    {
      "cell_type": "code",
      "execution_count": null,
      "metadata": {},
      "outputs": [],
      "source": [
        "import os, pathlib\n",
        "from getpass import getpass\n",
        "REPO_URL = os.environ.get('REPO_URL', 'https://github.com/your-account/algo-drl-sac-iql.git')\n",
        "BRANCH   = os.environ.get('REPO_BRANCH', 'main')\n",
        "TARGET   = pathlib.Path('/content/algo-drl-sac-iql')\n",
        "if 'your-account' in REPO_URL:\n",
        "    raise SystemExit('Please set REPO_URL to your GitHub repository URL (public) or use a token for private repos).')\n",
        "if TARGET.exists():\n",
        "    %cd /content/algo-drl-sac-iql\n",
        "    !git fetch origin $BRANCH && git checkout $BRANCH && git pull\n",
        "else:\n",
        "    token = ''\n",
        "    try:\n",
        "        token = getpass('GitHub token (press Enter if public): ')\n",
        "    except Exception:\n",
        "        token = ''\n",
        "    if token:\n",
        "        auth_url = REPO_URL.replace('https://', f'https://{token}@')\n",
        "        !git clone -b $BRANCH $auth_url $TARGET\n",
        "    else:\n",
        "        !git clone -b $BRANCH $REPO_URL $TARGET\n",
        "    %cd /content/algo-drl-sac-iql\n"
      ]
    },
    {
      "cell_type": "markdown",
      "metadata": {},
      "source": [
        "## Quick knobs (shorter runs in Colab)"
      ]
    },
    {
      "cell_type": "code",
      "execution_count": null,
      "metadata": {},
      "outputs": [],
      "source": [
        "import os\n",
        "os.environ['QA_STEPS'] = os.environ.get('QA_STEPS', '5000')\n",
        "os.environ['QA_DEVICE'] = os.environ.get('QA_DEVICE', 'cuda')\n",
        "os.environ['CONFIG'] = os.environ.get('CONFIG', 'config/config.yaml')\n",
        "print('QA_STEPS =', os.environ['QA_STEPS'])\n",
        "print('QA_DEVICE=', os.environ['QA_DEVICE'])\n",
        "print('CONFIG  =', os.environ['CONFIG'])\n"
      ]
    },
    {
      "cell_type": "markdown",
      "metadata": {},
      "source": [
        "## 1) Download OHLCV (with volume fields)"
      ]
    },
    {
      "cell_type": "code",
      "execution_count": null,
      "metadata": {},
      "outputs": [],
      "source": [
        "!python scripts/download_ohlcv_binance.py \\\n+--symbol BTCUSDT --interval 3600 \\\n+--start '2024-06-10' --end '2025-10-16' \\\n+--output-dir data\n"
      ]
    },
    {
      "cell_type": "markdown",
      "metadata": {},
      "source": [
        "## 2) Offline pretrain (IQL)"
      ]
    },
    {
      "cell_type": "code",
      "execution_count": null,
      "metadata": {},
      "outputs": [],
      "source": [
        "!python -m src.run_offline_pretrain --config config/config.yaml --device cuda\n"
      ]
    },
    {
      "cell_type": "markdown",
      "metadata": {},
      "source": [
        "## 3) Online fine-tune (SAC)"
      ]
    },
    {
      "cell_type": "code",
      "execution_count": null,
      "metadata": {},
      "outputs": [],
      "source": [
        "!python -m src.run_sac_finetune --config config/config.yaml --device cuda\n"
      ]
    },
    {
      "cell_type": "markdown",
      "metadata": {},
      "source": [
        "## 4) Evaluation (test window with warm-up)"
      ]
    },
    {
      "cell_type": "code",
      "execution_count": null,
      "metadata": {},
      "outputs": [],
      "source": [
        "!python -m src.run_walkforward --config config/config.yaml --device cuda\n"
      ]
    },
    {
      "cell_type": "markdown",
      "metadata": {},
      "source": [
        "## View charts in notebook"
      ]
    },
    {
      "cell_type": "code",
      "execution_count": null,
      "metadata": {},
      "outputs": [],
      "source": [
        "from IPython.display import IFrame, display\n",
        "display(IFrame('evaluation/charts/equity_BTCUSDT.html', width=1000, height=600))\n",
        "display(IFrame('evaluation/charts/candlestick_BTCUSDT_SepOct2025.html', width=1000, height=600))\n"
      ]
    }
  ],
  "metadata": {
    "kernelspec": {
      "display_name": "Python 3",
      "language": "python",
      "name": "python3"
    },
    "language_info": {
      "name": "python",
      "version": "3.10"
    }
  },
  "nbformat": 4,
  "nbformat_minor": 5
}
